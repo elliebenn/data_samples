{
  "nbformat": 4,
  "nbformat_minor": 0,
  "metadata": {
    "colab": {
      "name": "Working_with_data.ipynb",
      "provenance": [],
      "authorship_tag": "ABX9TyM2cBhI7nr6btAxtSRK6vXo",
      "include_colab_link": true
    },
    "kernelspec": {
      "name": "python3",
      "display_name": "Python 3"
    }
  },
  "cells": [
    {
      "cell_type": "markdown",
      "metadata": {
        "id": "view-in-github",
        "colab_type": "text"
      },
      "source": [
        "<a href=\"https://colab.research.google.com/github/elliebenn/data_samples/blob/master/Working_with_data.ipynb\" target=\"_parent\"><img src=\"https://colab.research.google.com/assets/colab-badge.svg\" alt=\"Open In Colab\"/></a>"
      ]
    },
    {
      "cell_type": "code",
      "metadata": {
        "id": "n1lTystYILO8",
        "colab_type": "code",
        "colab": {}
      },
      "source": [
        "import numpy as np\n",
        "import pandas as pd"
      ],
      "execution_count": 0,
      "outputs": []
    },
    {
      "cell_type": "code",
      "metadata": {
        "id": "g0w8zKlPIV63",
        "colab_type": "code",
        "colab": {}
      },
      "source": [
        "# Lets create a datafram a dictionary\n",
        "# We know we are creating a dictionary because we see {key: values}\n",
        "shoesample1 = pd.DataFrame({'Favorite style': ['Slip-ons', 'High-Tops', 'Running', 'Casual'], 'Favorite Brands': ['Vans', 'New Balance', 'Nike', 'Converse']},\n",
        "                           index = [0,1,2,3])\n"
      ],
      "execution_count": 0,
      "outputs": []
    },
    {
      "cell_type": "code",
      "metadata": {
        "id": "b9QE_PAUKYmO",
        "colab_type": "code",
        "colab": {}
      },
      "source": [
        ""
      ],
      "execution_count": 0,
      "outputs": []
    },
    {
      "cell_type": "code",
      "metadata": {
        "id": "o2MfbQqGJiAG",
        "colab_type": "code",
        "colab": {}
      },
      "source": [
        "shoesample1"
      ],
      "execution_count": 0,
      "outputs": []
    },
    {
      "cell_type": "code",
      "metadata": {
        "id": "2LT2S5NPJnKl",
        "colab_type": "code",
        "colab": {}
      },
      "source": [
        "colorsample2 = pd.DataFrame({'Favorite Colors': ['Red', 'Green', 'Gray', 'Teal'], 'Favorite Nail Polish Brands': ['OPI', 'Orly', 'Essie', 'Sally Hansen']}, index = [0,1,2,3])"
      ],
      "execution_count": 0,
      "outputs": []
    },
    {
      "cell_type": "code",
      "metadata": {
        "id": "x8hz0CYqKRPp",
        "colab_type": "code",
        "colab": {
          "base_uri": "https://localhost:8080/",
          "height": 173
        },
        "outputId": "8b2e498f-c736-42f3-fe80-9e83b9edaf6f"
      },
      "source": [
        "colorsample2"
      ],
      "execution_count": 7,
      "outputs": [
        {
          "output_type": "execute_result",
          "data": {
            "text/html": [
              "<div>\n",
              "<style scoped>\n",
              "    .dataframe tbody tr th:only-of-type {\n",
              "        vertical-align: middle;\n",
              "    }\n",
              "\n",
              "    .dataframe tbody tr th {\n",
              "        vertical-align: top;\n",
              "    }\n",
              "\n",
              "    .dataframe thead th {\n",
              "        text-align: right;\n",
              "    }\n",
              "</style>\n",
              "<table border=\"1\" class=\"dataframe\">\n",
              "  <thead>\n",
              "    <tr style=\"text-align: right;\">\n",
              "      <th></th>\n",
              "      <th>Favorite Colors</th>\n",
              "      <th>Favorite Nail Polish Brands</th>\n",
              "    </tr>\n",
              "  </thead>\n",
              "  <tbody>\n",
              "    <tr>\n",
              "      <th>0</th>\n",
              "      <td>Red</td>\n",
              "      <td>OPI</td>\n",
              "    </tr>\n",
              "    <tr>\n",
              "      <th>1</th>\n",
              "      <td>Green</td>\n",
              "      <td>Orly</td>\n",
              "    </tr>\n",
              "    <tr>\n",
              "      <th>2</th>\n",
              "      <td>Gray</td>\n",
              "      <td>Essie</td>\n",
              "    </tr>\n",
              "    <tr>\n",
              "      <th>3</th>\n",
              "      <td>Teal</td>\n",
              "      <td>Sally Hansen</td>\n",
              "    </tr>\n",
              "  </tbody>\n",
              "</table>\n",
              "</div>"
            ],
            "text/plain": [
              "  Favorite Colors Favorite Nail Polish Brands\n",
              "0             Red                         OPI\n",
              "1           Green                        Orly\n",
              "2            Gray                       Essie\n",
              "3            Teal                Sally Hansen"
            ]
          },
          "metadata": {
            "tags": []
          },
          "execution_count": 7
        }
      ]
    },
    {
      "cell_type": "code",
      "metadata": {
        "id": "YYtPHMULKZf8",
        "colab_type": "code",
        "colab": {
          "base_uri": "https://localhost:8080/",
          "height": 187
        },
        "outputId": "e77432d5-12ca-4733-a668-7085caefd5a1"
      },
      "source": [
        "# Lets combine these two\n",
        "datasamples = [shoesample1, colorsample2]\n",
        "datasamples"
      ],
      "execution_count": 10,
      "outputs": [
        {
          "output_type": "execute_result",
          "data": {
            "text/plain": [
              "[  Favorite style Favorite Brands\n",
              " 0       Slip-ons            Vans\n",
              " 1      High-Tops     New Balance\n",
              " 2        Running            Nike\n",
              " 3         Casual        Converse,\n",
              "   Favorite Colors Favorite Nail Polish Brands\n",
              " 0             Red                         OPI\n",
              " 1           Green                        Orly\n",
              " 2            Gray                       Essie\n",
              " 3            Teal                Sally Hansen]"
            ]
          },
          "metadata": {
            "tags": []
          },
          "execution_count": 10
        }
      ]
    },
    {
      "cell_type": "code",
      "metadata": {
        "id": "EVijjTRuK75w",
        "colab_type": "code",
        "colab": {
          "base_uri": "https://localhost:8080/",
          "height": 297
        },
        "outputId": "7ecacfb4-1cf3-47bd-fa24-da89e33e0c85"
      },
      "source": [
        "totaldata = pd.concat(datasamples)\n",
        "totaldata"
      ],
      "execution_count": 12,
      "outputs": [
        {
          "output_type": "execute_result",
          "data": {
            "text/html": [
              "<div>\n",
              "<style scoped>\n",
              "    .dataframe tbody tr th:only-of-type {\n",
              "        vertical-align: middle;\n",
              "    }\n",
              "\n",
              "    .dataframe tbody tr th {\n",
              "        vertical-align: top;\n",
              "    }\n",
              "\n",
              "    .dataframe thead th {\n",
              "        text-align: right;\n",
              "    }\n",
              "</style>\n",
              "<table border=\"1\" class=\"dataframe\">\n",
              "  <thead>\n",
              "    <tr style=\"text-align: right;\">\n",
              "      <th></th>\n",
              "      <th>Favorite style</th>\n",
              "      <th>Favorite Brands</th>\n",
              "      <th>Favorite Colors</th>\n",
              "      <th>Favorite Nail Polish Brands</th>\n",
              "    </tr>\n",
              "  </thead>\n",
              "  <tbody>\n",
              "    <tr>\n",
              "      <th>0</th>\n",
              "      <td>Slip-ons</td>\n",
              "      <td>Vans</td>\n",
              "      <td>NaN</td>\n",
              "      <td>NaN</td>\n",
              "    </tr>\n",
              "    <tr>\n",
              "      <th>1</th>\n",
              "      <td>High-Tops</td>\n",
              "      <td>New Balance</td>\n",
              "      <td>NaN</td>\n",
              "      <td>NaN</td>\n",
              "    </tr>\n",
              "    <tr>\n",
              "      <th>2</th>\n",
              "      <td>Running</td>\n",
              "      <td>Nike</td>\n",
              "      <td>NaN</td>\n",
              "      <td>NaN</td>\n",
              "    </tr>\n",
              "    <tr>\n",
              "      <th>3</th>\n",
              "      <td>Casual</td>\n",
              "      <td>Converse</td>\n",
              "      <td>NaN</td>\n",
              "      <td>NaN</td>\n",
              "    </tr>\n",
              "    <tr>\n",
              "      <th>0</th>\n",
              "      <td>NaN</td>\n",
              "      <td>NaN</td>\n",
              "      <td>Red</td>\n",
              "      <td>OPI</td>\n",
              "    </tr>\n",
              "    <tr>\n",
              "      <th>1</th>\n",
              "      <td>NaN</td>\n",
              "      <td>NaN</td>\n",
              "      <td>Green</td>\n",
              "      <td>Orly</td>\n",
              "    </tr>\n",
              "    <tr>\n",
              "      <th>2</th>\n",
              "      <td>NaN</td>\n",
              "      <td>NaN</td>\n",
              "      <td>Gray</td>\n",
              "      <td>Essie</td>\n",
              "    </tr>\n",
              "    <tr>\n",
              "      <th>3</th>\n",
              "      <td>NaN</td>\n",
              "      <td>NaN</td>\n",
              "      <td>Teal</td>\n",
              "      <td>Sally Hansen</td>\n",
              "    </tr>\n",
              "  </tbody>\n",
              "</table>\n",
              "</div>"
            ],
            "text/plain": [
              "  Favorite style Favorite Brands Favorite Colors Favorite Nail Polish Brands\n",
              "0       Slip-ons            Vans             NaN                         NaN\n",
              "1      High-Tops     New Balance             NaN                         NaN\n",
              "2        Running            Nike             NaN                         NaN\n",
              "3         Casual        Converse             NaN                         NaN\n",
              "0            NaN             NaN             Red                         OPI\n",
              "1            NaN             NaN           Green                        Orly\n",
              "2            NaN             NaN            Gray                       Essie\n",
              "3            NaN             NaN            Teal                Sally Hansen"
            ]
          },
          "metadata": {
            "tags": []
          },
          "execution_count": 12
        }
      ]
    },
    {
      "cell_type": "code",
      "metadata": {
        "id": "Z6dGxNbILEuO",
        "colab_type": "code",
        "colab": {}
      },
      "source": [
        "animalsample3 = pd.DataFrame({'Favorite Animals': ['Dog', 'Cat', 'Dolphin', 'Mouse'], 'Favorite Pet Names': ['Ottis', 'Kenny', 'Maci', 'Sally']}, index = [0,1,2,3])\n"
      ],
      "execution_count": 0,
      "outputs": []
    },
    {
      "cell_type": "code",
      "metadata": {
        "id": "YM1a2tAgLhAf",
        "colab_type": "code",
        "colab": {
          "base_uri": "https://localhost:8080/",
          "height": 173
        },
        "outputId": "2008a9ef-8070-422e-9cf8-6a4dffc19bea"
      },
      "source": [
        "animalsample3"
      ],
      "execution_count": 14,
      "outputs": [
        {
          "output_type": "execute_result",
          "data": {
            "text/html": [
              "<div>\n",
              "<style scoped>\n",
              "    .dataframe tbody tr th:only-of-type {\n",
              "        vertical-align: middle;\n",
              "    }\n",
              "\n",
              "    .dataframe tbody tr th {\n",
              "        vertical-align: top;\n",
              "    }\n",
              "\n",
              "    .dataframe thead th {\n",
              "        text-align: right;\n",
              "    }\n",
              "</style>\n",
              "<table border=\"1\" class=\"dataframe\">\n",
              "  <thead>\n",
              "    <tr style=\"text-align: right;\">\n",
              "      <th></th>\n",
              "      <th>Favorite Animals</th>\n",
              "      <th>Favorite Pet Names</th>\n",
              "    </tr>\n",
              "  </thead>\n",
              "  <tbody>\n",
              "    <tr>\n",
              "      <th>0</th>\n",
              "      <td>Dog</td>\n",
              "      <td>Ottis</td>\n",
              "    </tr>\n",
              "    <tr>\n",
              "      <th>1</th>\n",
              "      <td>Cat</td>\n",
              "      <td>Kenny</td>\n",
              "    </tr>\n",
              "    <tr>\n",
              "      <th>2</th>\n",
              "      <td>Dolphin</td>\n",
              "      <td>Maci</td>\n",
              "    </tr>\n",
              "    <tr>\n",
              "      <th>3</th>\n",
              "      <td>Mouse</td>\n",
              "      <td>Sally</td>\n",
              "    </tr>\n",
              "  </tbody>\n",
              "</table>\n",
              "</div>"
            ],
            "text/plain": [
              "  Favorite Animals Favorite Pet Names\n",
              "0              Dog              Ottis\n",
              "1              Cat              Kenny\n",
              "2          Dolphin               Maci\n",
              "3            Mouse              Sally"
            ]
          },
          "metadata": {
            "tags": []
          },
          "execution_count": 14
        }
      ]
    },
    {
      "cell_type": "code",
      "metadata": {
        "id": "j2u_p0U5Lrxq",
        "colab_type": "code",
        "colab": {}
      },
      "source": [
        "NEWTOTALDATA = pd.concat([shoesample1, colorsample2, animalsample3], axis = 1).reindex(shoesample1.index)"
      ],
      "execution_count": 0,
      "outputs": []
    },
    {
      "cell_type": "code",
      "metadata": {
        "id": "R1u3UqPQOmsp",
        "colab_type": "code",
        "colab": {}
      },
      "source": [
        ""
      ],
      "execution_count": 0,
      "outputs": []
    },
    {
      "cell_type": "code",
      "metadata": {
        "id": "8ZNk4mSFL8y5",
        "colab_type": "code",
        "colab": {
          "base_uri": "https://localhost:8080/",
          "height": 173
        },
        "outputId": "06771a76-9c75-4616-ec94-0617ae766157"
      },
      "source": [
        "NEWTOTALDATA"
      ],
      "execution_count": 17,
      "outputs": [
        {
          "output_type": "execute_result",
          "data": {
            "text/html": [
              "<div>\n",
              "<style scoped>\n",
              "    .dataframe tbody tr th:only-of-type {\n",
              "        vertical-align: middle;\n",
              "    }\n",
              "\n",
              "    .dataframe tbody tr th {\n",
              "        vertical-align: top;\n",
              "    }\n",
              "\n",
              "    .dataframe thead th {\n",
              "        text-align: right;\n",
              "    }\n",
              "</style>\n",
              "<table border=\"1\" class=\"dataframe\">\n",
              "  <thead>\n",
              "    <tr style=\"text-align: right;\">\n",
              "      <th></th>\n",
              "      <th>Favorite style</th>\n",
              "      <th>Favorite Brands</th>\n",
              "      <th>Favorite Colors</th>\n",
              "      <th>Favorite Nail Polish Brands</th>\n",
              "      <th>Favorite Animals</th>\n",
              "      <th>Favorite Pet Names</th>\n",
              "    </tr>\n",
              "  </thead>\n",
              "  <tbody>\n",
              "    <tr>\n",
              "      <th>0</th>\n",
              "      <td>Slip-ons</td>\n",
              "      <td>Vans</td>\n",
              "      <td>Red</td>\n",
              "      <td>OPI</td>\n",
              "      <td>Dog</td>\n",
              "      <td>Ottis</td>\n",
              "    </tr>\n",
              "    <tr>\n",
              "      <th>1</th>\n",
              "      <td>High-Tops</td>\n",
              "      <td>New Balance</td>\n",
              "      <td>Green</td>\n",
              "      <td>Orly</td>\n",
              "      <td>Cat</td>\n",
              "      <td>Kenny</td>\n",
              "    </tr>\n",
              "    <tr>\n",
              "      <th>2</th>\n",
              "      <td>Running</td>\n",
              "      <td>Nike</td>\n",
              "      <td>Gray</td>\n",
              "      <td>Essie</td>\n",
              "      <td>Dolphin</td>\n",
              "      <td>Maci</td>\n",
              "    </tr>\n",
              "    <tr>\n",
              "      <th>3</th>\n",
              "      <td>Casual</td>\n",
              "      <td>Converse</td>\n",
              "      <td>Teal</td>\n",
              "      <td>Sally Hansen</td>\n",
              "      <td>Mouse</td>\n",
              "      <td>Sally</td>\n",
              "    </tr>\n",
              "  </tbody>\n",
              "</table>\n",
              "</div>"
            ],
            "text/plain": [
              "  Favorite style Favorite Brands  ... Favorite Animals Favorite Pet Names\n",
              "0       Slip-ons            Vans  ...              Dog              Ottis\n",
              "1      High-Tops     New Balance  ...              Cat              Kenny\n",
              "2        Running            Nike  ...          Dolphin               Maci\n",
              "3         Casual        Converse  ...            Mouse              Sally\n",
              "\n",
              "[4 rows x 6 columns]"
            ]
          },
          "metadata": {
            "tags": []
          },
          "execution_count": 17
        }
      ]
    },
    {
      "cell_type": "code",
      "metadata": {
        "id": "IDwnZUlYMWPc",
        "colab_type": "code",
        "colab": {
          "base_uri": "https://localhost:8080/",
          "height": 34
        },
        "outputId": "93706353-2798-47e3-ca34-bc9f7cc8121d"
      },
      "source": [
        "# checking for null and nan values\n",
        "NEWTOTALDATA.isnull().values.any()"
      ],
      "execution_count": 18,
      "outputs": [
        {
          "output_type": "execute_result",
          "data": {
            "text/plain": [
              "False"
            ]
          },
          "metadata": {
            "tags": []
          },
          "execution_count": 18
        }
      ]
    },
    {
      "cell_type": "code",
      "metadata": {
        "id": "Rs2cMKfLMiyE",
        "colab_type": "code",
        "colab": {
          "base_uri": "https://localhost:8080/",
          "height": 34
        },
        "outputId": "d540b430-4651-4969-ea33-784d311d309c"
      },
      "source": [
        "# checking for null and nan values\n",
        "NEWTOTALDATA.isna().values.any()"
      ],
      "execution_count": 19,
      "outputs": [
        {
          "output_type": "execute_result",
          "data": {
            "text/plain": [
              "False"
            ]
          },
          "metadata": {
            "tags": []
          },
          "execution_count": 19
        }
      ]
    },
    {
      "cell_type": "code",
      "metadata": {
        "id": "omXaVMwKMqiX",
        "colab_type": "code",
        "colab": {}
      },
      "source": [
        "NEWTOTALDATA = NEWTOTALDATA.replace('Nan', '')"
      ],
      "execution_count": 0,
      "outputs": []
    },
    {
      "cell_type": "code",
      "metadata": {
        "id": "3_I6dWePM8yc",
        "colab_type": "code",
        "colab": {}
      },
      "source": [
        "NEWTOTALDATA.fillna(0)"
      ],
      "execution_count": 0,
      "outputs": []
    },
    {
      "cell_type": "code",
      "metadata": {
        "id": "76c-bw0vNKZv",
        "colab_type": "code",
        "colab": {
          "base_uri": "https://localhost:8080/",
          "height": 173
        },
        "outputId": "79bf9da4-a361-431f-c467-faffd339a191"
      },
      "source": [
        "NEWTOTALDATA.fillna(\"\") # quiesest way to identify NULL/Nan values"
      ],
      "execution_count": 21,
      "outputs": [
        {
          "output_type": "execute_result",
          "data": {
            "text/html": [
              "<div>\n",
              "<style scoped>\n",
              "    .dataframe tbody tr th:only-of-type {\n",
              "        vertical-align: middle;\n",
              "    }\n",
              "\n",
              "    .dataframe tbody tr th {\n",
              "        vertical-align: top;\n",
              "    }\n",
              "\n",
              "    .dataframe thead th {\n",
              "        text-align: right;\n",
              "    }\n",
              "</style>\n",
              "<table border=\"1\" class=\"dataframe\">\n",
              "  <thead>\n",
              "    <tr style=\"text-align: right;\">\n",
              "      <th></th>\n",
              "      <th>Favorite style</th>\n",
              "      <th>Favorite Brands</th>\n",
              "      <th>Favorite Colors</th>\n",
              "      <th>Favorite Nail Polish Brands</th>\n",
              "      <th>Favorite Animals</th>\n",
              "      <th>Favorite Pet Names</th>\n",
              "    </tr>\n",
              "  </thead>\n",
              "  <tbody>\n",
              "    <tr>\n",
              "      <th>0</th>\n",
              "      <td>Slip-ons</td>\n",
              "      <td>Vans</td>\n",
              "      <td>Red</td>\n",
              "      <td>OPI</td>\n",
              "      <td>Dog</td>\n",
              "      <td>Ottis</td>\n",
              "    </tr>\n",
              "    <tr>\n",
              "      <th>1</th>\n",
              "      <td>High-Tops</td>\n",
              "      <td>New Balance</td>\n",
              "      <td>Green</td>\n",
              "      <td>Orly</td>\n",
              "      <td>Cat</td>\n",
              "      <td>Kenny</td>\n",
              "    </tr>\n",
              "    <tr>\n",
              "      <th>2</th>\n",
              "      <td>Running</td>\n",
              "      <td>Nike</td>\n",
              "      <td>Gray</td>\n",
              "      <td>Essie</td>\n",
              "      <td>Dolphin</td>\n",
              "      <td>Maci</td>\n",
              "    </tr>\n",
              "    <tr>\n",
              "      <th>3</th>\n",
              "      <td>Casual</td>\n",
              "      <td>Converse</td>\n",
              "      <td>Teal</td>\n",
              "      <td>Sally Hansen</td>\n",
              "      <td>Mouse</td>\n",
              "      <td>Sally</td>\n",
              "    </tr>\n",
              "  </tbody>\n",
              "</table>\n",
              "</div>"
            ],
            "text/plain": [
              "  Favorite style Favorite Brands  ... Favorite Animals Favorite Pet Names\n",
              "0       Slip-ons            Vans  ...              Dog              Ottis\n",
              "1      High-Tops     New Balance  ...              Cat              Kenny\n",
              "2        Running            Nike  ...          Dolphin               Maci\n",
              "3         Casual        Converse  ...            Mouse              Sally\n",
              "\n",
              "[4 rows x 6 columns]"
            ]
          },
          "metadata": {
            "tags": []
          },
          "execution_count": 21
        }
      ]
    },
    {
      "cell_type": "code",
      "metadata": {
        "id": "mkI2RXhPOaO9",
        "colab_type": "code",
        "colab": {}
      },
      "source": [
        ""
      ],
      "execution_count": 0,
      "outputs": []
    },
    {
      "cell_type": "code",
      "metadata": {
        "id": "eOybdnFuNlau",
        "colab_type": "code",
        "colab": {}
      },
      "source": [
        "datasample4 = pd.DataFrame({'Favorite Computures': ['HP', 'Toshiba', 'Apple']}, index = [0,1,2])"
      ],
      "execution_count": 0,
      "outputs": []
    },
    {
      "cell_type": "code",
      "metadata": {
        "id": "Bsg0nzFeOGzr",
        "colab_type": "code",
        "colab": {
          "base_uri": "https://localhost:8080/",
          "height": 359
        },
        "outputId": "2d6d90bb-c07c-4af3-deda-6f2f85540694"
      },
      "source": [
        "NEWTOTALDATA = NEWTOTALDATA.append(datasample4)\n",
        "NEWTOTALDATA"
      ],
      "execution_count": 24,
      "outputs": [
        {
          "output_type": "execute_result",
          "data": {
            "text/html": [
              "<div>\n",
              "<style scoped>\n",
              "    .dataframe tbody tr th:only-of-type {\n",
              "        vertical-align: middle;\n",
              "    }\n",
              "\n",
              "    .dataframe tbody tr th {\n",
              "        vertical-align: top;\n",
              "    }\n",
              "\n",
              "    .dataframe thead th {\n",
              "        text-align: right;\n",
              "    }\n",
              "</style>\n",
              "<table border=\"1\" class=\"dataframe\">\n",
              "  <thead>\n",
              "    <tr style=\"text-align: right;\">\n",
              "      <th></th>\n",
              "      <th>Favorite style</th>\n",
              "      <th>Favorite Brands</th>\n",
              "      <th>Favorite Colors</th>\n",
              "      <th>Favorite Nail Polish Brands</th>\n",
              "      <th>Favorite Animals</th>\n",
              "      <th>Favorite Pet Names</th>\n",
              "      <th>Favorite Computures</th>\n",
              "    </tr>\n",
              "  </thead>\n",
              "  <tbody>\n",
              "    <tr>\n",
              "      <th>0</th>\n",
              "      <td>Slip-ons</td>\n",
              "      <td>Vans</td>\n",
              "      <td>Red</td>\n",
              "      <td>OPI</td>\n",
              "      <td>Dog</td>\n",
              "      <td>Ottis</td>\n",
              "      <td>NaN</td>\n",
              "    </tr>\n",
              "    <tr>\n",
              "      <th>1</th>\n",
              "      <td>High-Tops</td>\n",
              "      <td>New Balance</td>\n",
              "      <td>Green</td>\n",
              "      <td>Orly</td>\n",
              "      <td>Cat</td>\n",
              "      <td>Kenny</td>\n",
              "      <td>NaN</td>\n",
              "    </tr>\n",
              "    <tr>\n",
              "      <th>2</th>\n",
              "      <td>Running</td>\n",
              "      <td>Nike</td>\n",
              "      <td>Gray</td>\n",
              "      <td>Essie</td>\n",
              "      <td>Dolphin</td>\n",
              "      <td>Maci</td>\n",
              "      <td>NaN</td>\n",
              "    </tr>\n",
              "    <tr>\n",
              "      <th>3</th>\n",
              "      <td>Casual</td>\n",
              "      <td>Converse</td>\n",
              "      <td>Teal</td>\n",
              "      <td>Sally Hansen</td>\n",
              "      <td>Mouse</td>\n",
              "      <td>Sally</td>\n",
              "      <td>NaN</td>\n",
              "    </tr>\n",
              "    <tr>\n",
              "      <th>0</th>\n",
              "      <td>NaN</td>\n",
              "      <td>NaN</td>\n",
              "      <td>NaN</td>\n",
              "      <td>NaN</td>\n",
              "      <td>NaN</td>\n",
              "      <td>NaN</td>\n",
              "      <td>HP</td>\n",
              "    </tr>\n",
              "    <tr>\n",
              "      <th>1</th>\n",
              "      <td>NaN</td>\n",
              "      <td>NaN</td>\n",
              "      <td>NaN</td>\n",
              "      <td>NaN</td>\n",
              "      <td>NaN</td>\n",
              "      <td>NaN</td>\n",
              "      <td>Toshiba</td>\n",
              "    </tr>\n",
              "    <tr>\n",
              "      <th>2</th>\n",
              "      <td>NaN</td>\n",
              "      <td>NaN</td>\n",
              "      <td>NaN</td>\n",
              "      <td>NaN</td>\n",
              "      <td>NaN</td>\n",
              "      <td>NaN</td>\n",
              "      <td>Apple</td>\n",
              "    </tr>\n",
              "    <tr>\n",
              "      <th>0</th>\n",
              "      <td>NaN</td>\n",
              "      <td>NaN</td>\n",
              "      <td>NaN</td>\n",
              "      <td>NaN</td>\n",
              "      <td>NaN</td>\n",
              "      <td>NaN</td>\n",
              "      <td>HP</td>\n",
              "    </tr>\n",
              "    <tr>\n",
              "      <th>1</th>\n",
              "      <td>NaN</td>\n",
              "      <td>NaN</td>\n",
              "      <td>NaN</td>\n",
              "      <td>NaN</td>\n",
              "      <td>NaN</td>\n",
              "      <td>NaN</td>\n",
              "      <td>Toshiba</td>\n",
              "    </tr>\n",
              "    <tr>\n",
              "      <th>2</th>\n",
              "      <td>NaN</td>\n",
              "      <td>NaN</td>\n",
              "      <td>NaN</td>\n",
              "      <td>NaN</td>\n",
              "      <td>NaN</td>\n",
              "      <td>NaN</td>\n",
              "      <td>Apple</td>\n",
              "    </tr>\n",
              "  </tbody>\n",
              "</table>\n",
              "</div>"
            ],
            "text/plain": [
              "  Favorite style Favorite Brands  ... Favorite Pet Names Favorite Computures\n",
              "0       Slip-ons            Vans  ...              Ottis                 NaN\n",
              "1      High-Tops     New Balance  ...              Kenny                 NaN\n",
              "2        Running            Nike  ...               Maci                 NaN\n",
              "3         Casual        Converse  ...              Sally                 NaN\n",
              "0            NaN             NaN  ...                NaN                  HP\n",
              "1            NaN             NaN  ...                NaN             Toshiba\n",
              "2            NaN             NaN  ...                NaN               Apple\n",
              "0            NaN             NaN  ...                NaN                  HP\n",
              "1            NaN             NaN  ...                NaN             Toshiba\n",
              "2            NaN             NaN  ...                NaN               Apple\n",
              "\n",
              "[10 rows x 7 columns]"
            ]
          },
          "metadata": {
            "tags": []
          },
          "execution_count": 24
        }
      ]
    },
    {
      "cell_type": "code",
      "metadata": {
        "id": "WUlVJZW5OcNP",
        "colab_type": "code",
        "colab": {
          "base_uri": "https://localhost:8080/",
          "height": 359
        },
        "outputId": "3cbfaf8e-d107-4b27-faf6-4309b896d298"
      },
      "source": [
        "NEWTOTALDATA.fillna(\"\")"
      ],
      "execution_count": 25,
      "outputs": [
        {
          "output_type": "execute_result",
          "data": {
            "text/html": [
              "<div>\n",
              "<style scoped>\n",
              "    .dataframe tbody tr th:only-of-type {\n",
              "        vertical-align: middle;\n",
              "    }\n",
              "\n",
              "    .dataframe tbody tr th {\n",
              "        vertical-align: top;\n",
              "    }\n",
              "\n",
              "    .dataframe thead th {\n",
              "        text-align: right;\n",
              "    }\n",
              "</style>\n",
              "<table border=\"1\" class=\"dataframe\">\n",
              "  <thead>\n",
              "    <tr style=\"text-align: right;\">\n",
              "      <th></th>\n",
              "      <th>Favorite style</th>\n",
              "      <th>Favorite Brands</th>\n",
              "      <th>Favorite Colors</th>\n",
              "      <th>Favorite Nail Polish Brands</th>\n",
              "      <th>Favorite Animals</th>\n",
              "      <th>Favorite Pet Names</th>\n",
              "      <th>Favorite Computures</th>\n",
              "    </tr>\n",
              "  </thead>\n",
              "  <tbody>\n",
              "    <tr>\n",
              "      <th>0</th>\n",
              "      <td>Slip-ons</td>\n",
              "      <td>Vans</td>\n",
              "      <td>Red</td>\n",
              "      <td>OPI</td>\n",
              "      <td>Dog</td>\n",
              "      <td>Ottis</td>\n",
              "      <td></td>\n",
              "    </tr>\n",
              "    <tr>\n",
              "      <th>1</th>\n",
              "      <td>High-Tops</td>\n",
              "      <td>New Balance</td>\n",
              "      <td>Green</td>\n",
              "      <td>Orly</td>\n",
              "      <td>Cat</td>\n",
              "      <td>Kenny</td>\n",
              "      <td></td>\n",
              "    </tr>\n",
              "    <tr>\n",
              "      <th>2</th>\n",
              "      <td>Running</td>\n",
              "      <td>Nike</td>\n",
              "      <td>Gray</td>\n",
              "      <td>Essie</td>\n",
              "      <td>Dolphin</td>\n",
              "      <td>Maci</td>\n",
              "      <td></td>\n",
              "    </tr>\n",
              "    <tr>\n",
              "      <th>3</th>\n",
              "      <td>Casual</td>\n",
              "      <td>Converse</td>\n",
              "      <td>Teal</td>\n",
              "      <td>Sally Hansen</td>\n",
              "      <td>Mouse</td>\n",
              "      <td>Sally</td>\n",
              "      <td></td>\n",
              "    </tr>\n",
              "    <tr>\n",
              "      <th>0</th>\n",
              "      <td></td>\n",
              "      <td></td>\n",
              "      <td></td>\n",
              "      <td></td>\n",
              "      <td></td>\n",
              "      <td></td>\n",
              "      <td>HP</td>\n",
              "    </tr>\n",
              "    <tr>\n",
              "      <th>1</th>\n",
              "      <td></td>\n",
              "      <td></td>\n",
              "      <td></td>\n",
              "      <td></td>\n",
              "      <td></td>\n",
              "      <td></td>\n",
              "      <td>Toshiba</td>\n",
              "    </tr>\n",
              "    <tr>\n",
              "      <th>2</th>\n",
              "      <td></td>\n",
              "      <td></td>\n",
              "      <td></td>\n",
              "      <td></td>\n",
              "      <td></td>\n",
              "      <td></td>\n",
              "      <td>Apple</td>\n",
              "    </tr>\n",
              "    <tr>\n",
              "      <th>0</th>\n",
              "      <td></td>\n",
              "      <td></td>\n",
              "      <td></td>\n",
              "      <td></td>\n",
              "      <td></td>\n",
              "      <td></td>\n",
              "      <td>HP</td>\n",
              "    </tr>\n",
              "    <tr>\n",
              "      <th>1</th>\n",
              "      <td></td>\n",
              "      <td></td>\n",
              "      <td></td>\n",
              "      <td></td>\n",
              "      <td></td>\n",
              "      <td></td>\n",
              "      <td>Toshiba</td>\n",
              "    </tr>\n",
              "    <tr>\n",
              "      <th>2</th>\n",
              "      <td></td>\n",
              "      <td></td>\n",
              "      <td></td>\n",
              "      <td></td>\n",
              "      <td></td>\n",
              "      <td></td>\n",
              "      <td>Apple</td>\n",
              "    </tr>\n",
              "  </tbody>\n",
              "</table>\n",
              "</div>"
            ],
            "text/plain": [
              "  Favorite style Favorite Brands  ... Favorite Pet Names Favorite Computures\n",
              "0       Slip-ons            Vans  ...              Ottis                    \n",
              "1      High-Tops     New Balance  ...              Kenny                    \n",
              "2        Running            Nike  ...               Maci                    \n",
              "3         Casual        Converse  ...              Sally                    \n",
              "0                                 ...                                     HP\n",
              "1                                 ...                                Toshiba\n",
              "2                                 ...                                  Apple\n",
              "0                                 ...                                     HP\n",
              "1                                 ...                                Toshiba\n",
              "2                                 ...                                  Apple\n",
              "\n",
              "[10 rows x 7 columns]"
            ]
          },
          "metadata": {
            "tags": []
          },
          "execution_count": 25
        }
      ]
    },
    {
      "cell_type": "code",
      "metadata": {
        "id": "l9NwphygOoHM",
        "colab_type": "code",
        "colab": {}
      },
      "source": [
        "NEWTOTALDATA = pd.concat([shoesample1, colorsample2, animalsample3, datasample4], axis = 1).reindex(shoesample1.index)"
      ],
      "execution_count": 0,
      "outputs": []
    },
    {
      "cell_type": "code",
      "metadata": {
        "id": "nchc4-SxOs76",
        "colab_type": "code",
        "colab": {
          "base_uri": "https://localhost:8080/",
          "height": 173
        },
        "outputId": "59f84ef9-6d36-4c2f-b3bb-f0ff863a85dc"
      },
      "source": [
        "NEWTOTALDATA\n",
        "NEWTOTALDATA.fillna(\"\")"
      ],
      "execution_count": 28,
      "outputs": [
        {
          "output_type": "execute_result",
          "data": {
            "text/html": [
              "<div>\n",
              "<style scoped>\n",
              "    .dataframe tbody tr th:only-of-type {\n",
              "        vertical-align: middle;\n",
              "    }\n",
              "\n",
              "    .dataframe tbody tr th {\n",
              "        vertical-align: top;\n",
              "    }\n",
              "\n",
              "    .dataframe thead th {\n",
              "        text-align: right;\n",
              "    }\n",
              "</style>\n",
              "<table border=\"1\" class=\"dataframe\">\n",
              "  <thead>\n",
              "    <tr style=\"text-align: right;\">\n",
              "      <th></th>\n",
              "      <th>Favorite style</th>\n",
              "      <th>Favorite Brands</th>\n",
              "      <th>Favorite Colors</th>\n",
              "      <th>Favorite Nail Polish Brands</th>\n",
              "      <th>Favorite Animals</th>\n",
              "      <th>Favorite Pet Names</th>\n",
              "      <th>Favorite Computures</th>\n",
              "    </tr>\n",
              "  </thead>\n",
              "  <tbody>\n",
              "    <tr>\n",
              "      <th>0</th>\n",
              "      <td>Slip-ons</td>\n",
              "      <td>Vans</td>\n",
              "      <td>Red</td>\n",
              "      <td>OPI</td>\n",
              "      <td>Dog</td>\n",
              "      <td>Ottis</td>\n",
              "      <td>HP</td>\n",
              "    </tr>\n",
              "    <tr>\n",
              "      <th>1</th>\n",
              "      <td>High-Tops</td>\n",
              "      <td>New Balance</td>\n",
              "      <td>Green</td>\n",
              "      <td>Orly</td>\n",
              "      <td>Cat</td>\n",
              "      <td>Kenny</td>\n",
              "      <td>Toshiba</td>\n",
              "    </tr>\n",
              "    <tr>\n",
              "      <th>2</th>\n",
              "      <td>Running</td>\n",
              "      <td>Nike</td>\n",
              "      <td>Gray</td>\n",
              "      <td>Essie</td>\n",
              "      <td>Dolphin</td>\n",
              "      <td>Maci</td>\n",
              "      <td>Apple</td>\n",
              "    </tr>\n",
              "    <tr>\n",
              "      <th>3</th>\n",
              "      <td>Casual</td>\n",
              "      <td>Converse</td>\n",
              "      <td>Teal</td>\n",
              "      <td>Sally Hansen</td>\n",
              "      <td>Mouse</td>\n",
              "      <td>Sally</td>\n",
              "      <td></td>\n",
              "    </tr>\n",
              "  </tbody>\n",
              "</table>\n",
              "</div>"
            ],
            "text/plain": [
              "  Favorite style Favorite Brands  ... Favorite Pet Names Favorite Computures\n",
              "0       Slip-ons            Vans  ...              Ottis                  HP\n",
              "1      High-Tops     New Balance  ...              Kenny             Toshiba\n",
              "2        Running            Nike  ...               Maci               Apple\n",
              "3         Casual        Converse  ...              Sally                    \n",
              "\n",
              "[4 rows x 7 columns]"
            ]
          },
          "metadata": {
            "tags": []
          },
          "execution_count": 28
        }
      ]
    },
    {
      "cell_type": "code",
      "metadata": {
        "id": "vJENPIFgPSL0",
        "colab_type": "code",
        "colab": {}
      },
      "source": [
        "#figure out how to download to local drive or google cloud\n",
        "NEWTOTALDATA.to_csv(r\"C:\\Users\\elizabethbenitez\\Downloads\\Structured.csv\")"
      ],
      "execution_count": 0,
      "outputs": []
    },
    {
      "cell_type": "code",
      "metadata": {
        "id": "1LY9pRVVPSU2",
        "colab_type": "code",
        "colab": {
          "base_uri": "https://localhost:8080/"
        },
        "outputId": "170e3584-0bab-45e3-fac4-f9f866733aca"
      },
      "source": [
        "import base64\n",
        "from IPython.display import HTML\n",
        "def create_download_link(df3, title = 'Download CSV file', filename = \"Structured.csv\"):\n",
        "  csv = NEWTOTALDATA.to_csv()\n",
        "  b64 = base64.b64encode(csv.encode())\n",
        "  payload = b64.decode()\n",
        "  html = '<a download=\"{filename}\" href = \"data:text/csv:base64,{payload}\" target= \"_blank\">{title}</a>'\n",
        "  html = html.format(payload = payload,title=title,filename=filename)\n",
        "  return HTML(htmsl)\n",
        "\n",
        "create_download_link(NEWTOTALDATA)"
      ],
      "execution_count": 29,
      "outputs": [
        {
          "output_type": "error",
          "ename": "NameError",
          "evalue": "ignored",
          "traceback": [
            "\u001b[0;31m---------------------------------------------------------------------------\u001b[0m",
            "\u001b[0;31mNameError\u001b[0m                                 Traceback (most recent call last)",
            "\u001b[0;32m<ipython-input-29-92015983ebfd>\u001b[0m in \u001b[0;36m<module>\u001b[0;34m()\u001b[0m\n\u001b[1;32m      9\u001b[0m   \u001b[0;32mreturn\u001b[0m \u001b[0mHTML\u001b[0m\u001b[0;34m(\u001b[0m\u001b[0mhtmsl\u001b[0m\u001b[0;34m)\u001b[0m\u001b[0;34m\u001b[0m\u001b[0;34m\u001b[0m\u001b[0m\n\u001b[1;32m     10\u001b[0m \u001b[0;34m\u001b[0m\u001b[0m\n\u001b[0;32m---> 11\u001b[0;31m \u001b[0mcreate_download_link\u001b[0m\u001b[0;34m(\u001b[0m\u001b[0mNEWTOTALDATA\u001b[0m\u001b[0;34m)\u001b[0m\u001b[0;34m\u001b[0m\u001b[0;34m\u001b[0m\u001b[0m\n\u001b[0m",
            "\u001b[0;32m<ipython-input-29-92015983ebfd>\u001b[0m in \u001b[0;36mcreate_download_link\u001b[0;34m(df3, title, filename)\u001b[0m\n\u001b[1;32m      7\u001b[0m   \u001b[0mhtml\u001b[0m \u001b[0;34m=\u001b[0m \u001b[0;34m'<a download=\"{filename}\" href = \"data:text/csv:base64,{payload}\" target= \"_blank\">{title}</a>'\u001b[0m\u001b[0;34m\u001b[0m\u001b[0;34m\u001b[0m\u001b[0m\n\u001b[1;32m      8\u001b[0m   \u001b[0mhtml\u001b[0m \u001b[0;34m=\u001b[0m \u001b[0mhtml\u001b[0m\u001b[0;34m.\u001b[0m\u001b[0mformat\u001b[0m\u001b[0;34m(\u001b[0m\u001b[0mpayload\u001b[0m \u001b[0;34m=\u001b[0m \u001b[0mpayload\u001b[0m\u001b[0;34m,\u001b[0m\u001b[0mtitle\u001b[0m\u001b[0;34m=\u001b[0m\u001b[0mtitle\u001b[0m\u001b[0;34m,\u001b[0m\u001b[0mfilename\u001b[0m\u001b[0;34m=\u001b[0m\u001b[0mfilename\u001b[0m\u001b[0;34m)\u001b[0m\u001b[0;34m\u001b[0m\u001b[0;34m\u001b[0m\u001b[0m\n\u001b[0;32m----> 9\u001b[0;31m   \u001b[0;32mreturn\u001b[0m \u001b[0mHTML\u001b[0m\u001b[0;34m(\u001b[0m\u001b[0mhtmsl\u001b[0m\u001b[0;34m)\u001b[0m\u001b[0;34m\u001b[0m\u001b[0;34m\u001b[0m\u001b[0m\n\u001b[0m\u001b[1;32m     10\u001b[0m \u001b[0;34m\u001b[0m\u001b[0m\n\u001b[1;32m     11\u001b[0m \u001b[0mcreate_download_link\u001b[0m\u001b[0;34m(\u001b[0m\u001b[0mNEWTOTALDATA\u001b[0m\u001b[0;34m)\u001b[0m\u001b[0;34m\u001b[0m\u001b[0;34m\u001b[0m\u001b[0m\n",
            "\u001b[0;31mNameError\u001b[0m: name 'htmsl' is not defined"
          ]
        }
      ]
    }
  ]
}